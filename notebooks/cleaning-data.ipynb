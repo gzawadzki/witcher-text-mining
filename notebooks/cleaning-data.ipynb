{
 "cells": [
  {
   "cell_type": "code",
   "execution_count": 168,
   "id": "5b46fbf4",
   "metadata": {},
   "outputs": [],
   "source": [
    "import pandas as pd\n",
    "import numpy as np"
   ]
  },
  {
   "cell_type": "code",
   "execution_count": 169,
   "id": "044c9cf5",
   "metadata": {},
   "outputs": [],
   "source": [
    "df = pd.read_csv(\"../transcriptions/witcher_s1e1.csv\", sep=';')"
   ]
  },
  {
   "cell_type": "code",
   "execution_count": 170,
   "id": "213baf9d",
   "metadata": {},
   "outputs": [
    {
     "data": {
      "text/html": [
       "<div>\n",
       "<style scoped>\n",
       "    .dataframe tbody tr th:only-of-type {\n",
       "        vertical-align: middle;\n",
       "    }\n",
       "\n",
       "    .dataframe tbody tr th {\n",
       "        vertical-align: top;\n",
       "    }\n",
       "\n",
       "    .dataframe thead th {\n",
       "        text-align: right;\n",
       "    }\n",
       "</style>\n",
       "<table border=\"1\" class=\"dataframe\">\n",
       "  <thead>\n",
       "    <tr style=\"text-align: right;\">\n",
       "      <th></th>\n",
       "      <th>Number</th>\n",
       "      <th>Start time in milliseconds</th>\n",
       "      <th>End time in milliseconds</th>\n",
       "      <th>Text</th>\n",
       "    </tr>\n",
       "  </thead>\n",
       "  <tbody>\n",
       "    <tr>\n",
       "      <th>0</th>\n",
       "      <td>1</td>\n",
       "      <td>9166,6667</td>\n",
       "      <td>11166,6667</td>\n",
       "      <td>[water rushing]</td>\n",
       "    </tr>\n",
       "    <tr>\n",
       "      <th>1</th>\n",
       "      <td>2</td>\n",
       "      <td>14208,3334</td>\n",
       "      <td>15958,3334</td>\n",
       "      <td>[woodpecker drilling]</td>\n",
       "    </tr>\n",
       "    <tr>\n",
       "      <th>2</th>\n",
       "      <td>3</td>\n",
       "      <td>52416,6667</td>\n",
       "      <td>53458,3334</td>\n",
       "      <td>[snarling]</td>\n",
       "    </tr>\n",
       "    <tr>\n",
       "      <th>3</th>\n",
       "      <td>4</td>\n",
       "      <td>55875</td>\n",
       "      <td>57000</td>\n",
       "      <td>[screeching]</td>\n",
       "    </tr>\n",
       "    <tr>\n",
       "      <th>4</th>\n",
       "      <td>5</td>\n",
       "      <td>58583,3334</td>\n",
       "      <td>60041,6667</td>\n",
       "      <td>-[yells]\\n-[screeches]</td>\n",
       "    </tr>\n",
       "    <tr>\n",
       "      <th>...</th>\n",
       "      <td>...</td>\n",
       "      <td>...</td>\n",
       "      <td>...</td>\n",
       "      <td>...</td>\n",
       "    </tr>\n",
       "    <tr>\n",
       "      <th>714</th>\n",
       "      <td>744</td>\n",
       "      <td>3485541,6667</td>\n",
       "      <td>3486750</td>\n",
       "      <td>Don't ever come back.</td>\n",
       "    </tr>\n",
       "    <tr>\n",
       "      <th>715</th>\n",
       "      <td>745</td>\n",
       "      <td>3488416,6667</td>\n",
       "      <td>3489625</td>\n",
       "      <td>Bastard!</td>\n",
       "    </tr>\n",
       "    <tr>\n",
       "      <th>716</th>\n",
       "      <td>746</td>\n",
       "      <td>3495583,3334</td>\n",
       "      <td>3497750</td>\n",
       "      <td>[yelling continues]</td>\n",
       "    </tr>\n",
       "    <tr>\n",
       "      <th>717</th>\n",
       "      <td>747</td>\n",
       "      <td>3516625</td>\n",
       "      <td>3519333,3334</td>\n",
       "      <td>[Renfri] The girl in the woods will be\\nwith y...</td>\n",
       "    </tr>\n",
       "    <tr>\n",
       "      <th>718</th>\n",
       "      <td>748</td>\n",
       "      <td>3521125</td>\n",
       "      <td>3522458,3334</td>\n",
       "      <td>She is your destiny.</td>\n",
       "    </tr>\n",
       "  </tbody>\n",
       "</table>\n",
       "<p>719 rows × 4 columns</p>\n",
       "</div>"
      ],
      "text/plain": [
       "    Number Start time in milliseconds End time in milliseconds  \\\n",
       "0        1                  9166,6667               11166,6667   \n",
       "1        2                 14208,3334               15958,3334   \n",
       "2        3                 52416,6667               53458,3334   \n",
       "3        4                      55875                    57000   \n",
       "4        5                 58583,3334               60041,6667   \n",
       "..     ...                        ...                      ...   \n",
       "714    744               3485541,6667                  3486750   \n",
       "715    745               3488416,6667                  3489625   \n",
       "716    746               3495583,3334                  3497750   \n",
       "717    747                    3516625             3519333,3334   \n",
       "718    748                    3521125             3522458,3334   \n",
       "\n",
       "                                                  Text  \n",
       "0                                      [water rushing]  \n",
       "1                                [woodpecker drilling]  \n",
       "2                                           [snarling]  \n",
       "3                                         [screeching]  \n",
       "4                               -[yells]\\n-[screeches]  \n",
       "..                                                 ...  \n",
       "714                              Don't ever come back.  \n",
       "715                                           Bastard!  \n",
       "716                                [yelling continues]  \n",
       "717  [Renfri] The girl in the woods will be\\nwith y...  \n",
       "718                               She is your destiny.  \n",
       "\n",
       "[719 rows x 4 columns]"
      ]
     },
     "execution_count": 170,
     "metadata": {},
     "output_type": "execute_result"
    }
   ],
   "source": [
    "df"
   ]
  },
  {
   "cell_type": "code",
   "execution_count": 171,
   "id": "85e480c2",
   "metadata": {},
   "outputs": [],
   "source": [
    "df.drop(['Number','Start time in milliseconds','End time in milliseconds'],axis=1, inplace=True)"
   ]
  },
  {
   "cell_type": "code",
   "execution_count": 296,
   "id": "1471d7fc",
   "metadata": {},
   "outputs": [],
   "source": [
    "def clean_df(df):\n",
    "    df['Text'] = df['Text'].str.replace(\"\\n\",' ')\n",
    "    df['Character'] = ''\n",
    "    df['season_no'] = '1'\n",
    "    df['episode_no'] = '1'\n",
    "    df['episode_name'] = 'A Grain of Truth'\n",
    "    df = df.apply(lambda x: x.str.split(' -').explode('Text'), axis=0)\n",
    "    df.replace(\"\",np.nan,inplace=True)\n",
    "    df.dropna(inplace=True, subset=['Text'])\n",
    "    df.fillna(method='ffill', inplace=True)\n",
    "    cols =['season_no', 'episode_no', 'episode_name', 'Character', 'Text']\n",
    "    df = df[cols].reset_index()\n",
    "    df['Text'] = df['Text'].apply(lambda x: x[1:] if x.startswith('-') else x)\n",
    "    return df"
   ]
  },
  {
   "cell_type": "code",
   "execution_count": 292,
   "id": "3885cf6d",
   "metadata": {},
   "outputs": [],
   "source": [
    "xd.to_csv(\"../transcriptions/witcher_s1e1_cleaned.csv\",index=False)"
   ]
  },
  {
   "cell_type": "code",
   "execution_count": null,
   "id": "cabccbd1",
   "metadata": {},
   "outputs": [],
   "source": [
    "\n"
   ]
  },
  {
   "cell_type": "code",
   "execution_count": 297,
   "id": "96a7640d",
   "metadata": {},
   "outputs": [],
   "source": [
    "episode2 = pd.read_csv('../transcriptions/witcher_s1e2.csv',sep=';')"
   ]
  },
  {
   "cell_type": "code",
   "execution_count": 298,
   "id": "426e9380",
   "metadata": {},
   "outputs": [],
   "source": [
    "episode2.drop(['Number','Start time in milliseconds','End time in milliseconds'],axis=1, inplace=True)\n",
    "clean_df(episode2).to_csv(\"../transcriptions/witcher_s1e2_cleaned.csv\", index=False)\n"
   ]
  },
  {
   "cell_type": "code",
   "execution_count": null,
   "id": "345fbf01",
   "metadata": {},
   "outputs": [],
   "source": []
  }
 ],
 "metadata": {
  "hide_input": false,
  "kernelspec": {
   "display_name": "Python 3",
   "language": "python",
   "name": "python3"
  },
  "language_info": {
   "codemirror_mode": {
    "name": "ipython",
    "version": 3
   },
   "file_extension": ".py",
   "mimetype": "text/x-python",
   "name": "python",
   "nbconvert_exporter": "python",
   "pygments_lexer": "ipython3",
   "version": "3.8.8"
  },
  "toc": {
   "base_numbering": 1,
   "nav_menu": {},
   "number_sections": true,
   "sideBar": true,
   "skip_h1_title": false,
   "title_cell": "Table of Contents",
   "title_sidebar": "Contents",
   "toc_cell": false,
   "toc_position": {},
   "toc_section_display": true,
   "toc_window_display": false
  },
  "varInspector": {
   "cols": {
    "lenName": 16,
    "lenType": 16,
    "lenVar": 40
   },
   "kernels_config": {
    "python": {
     "delete_cmd_postfix": "",
     "delete_cmd_prefix": "del ",
     "library": "var_list.py",
     "varRefreshCmd": "print(var_dic_list())"
    },
    "r": {
     "delete_cmd_postfix": ") ",
     "delete_cmd_prefix": "rm(",
     "library": "var_list.r",
     "varRefreshCmd": "cat(var_dic_list()) "
    }
   },
   "types_to_exclude": [
    "module",
    "function",
    "builtin_function_or_method",
    "instance",
    "_Feature"
   ],
   "window_display": false
  }
 },
 "nbformat": 4,
 "nbformat_minor": 5
}
